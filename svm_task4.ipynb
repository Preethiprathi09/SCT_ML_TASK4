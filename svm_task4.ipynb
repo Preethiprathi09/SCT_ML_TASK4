{
 "cells": [
  {
   "cell_type": "code",
   "execution_count": 2,
   "id": "e1919f83-c5fc-4563-b450-27042f39a58c",
   "metadata": {},
   "outputs": [
    {
     "name": "stdout",
     "output_type": "stream",
     "text": [
      "Training shape: (27455, 785)\n",
      "Testing shape: (7172, 785)\n",
      "Accuracy: 0.7861126603457892\n",
      "\n",
      "Classification Report:\n",
      "               precision    recall  f1-score   support\n",
      "\n",
      "           0       0.86      1.00      0.93       331\n",
      "           1       1.00      0.95      0.97       432\n",
      "           2       0.78      0.98      0.87       310\n",
      "           3       0.94      1.00      0.97       245\n",
      "           4       0.94      1.00      0.97       498\n",
      "           5       0.69      0.83      0.75       247\n",
      "           6       0.84      0.86      0.85       348\n",
      "           7       0.92      0.88      0.90       436\n",
      "           8       0.70      0.74      0.72       288\n",
      "          10       0.64      0.42      0.51       331\n",
      "          11       0.66      0.64      0.65       209\n",
      "          12       0.87      0.74      0.80       394\n",
      "          13       0.87      0.64      0.74       291\n",
      "          14       0.88      0.65      0.75       246\n",
      "          15       0.90      1.00      0.95       347\n",
      "          16       0.75      0.95      0.84       164\n",
      "          17       0.30      0.69      0.42       144\n",
      "          18       0.59      0.60      0.60       246\n",
      "          19       0.88      0.73      0.80       248\n",
      "          20       0.56      0.66      0.60       266\n",
      "          21       0.85      0.59      0.70       346\n",
      "          22       0.70      0.74      0.72       206\n",
      "          23       0.60      0.53      0.56       267\n",
      "          24       0.82      0.70      0.75       332\n",
      "\n",
      "    accuracy                           0.79      7172\n",
      "   macro avg       0.77      0.77      0.76      7172\n",
      "weighted avg       0.80      0.79      0.79      7172\n",
      "\n"
     ]
    },
    {
     "data": {
      "image/png": "[encoded data removed]",
      "text/plain": [
       "<Figure size 600x400 with 1 Axes>"
      ]
     },
     "metadata": {},
     "output_type": "display_data"
    }
   ],
   "source": [
    "import os\n",
    "import numpy as np\n",
    "import pandas as pd\n",
    "import matplotlib.pyplot as plt\n",
    "from sklearn.model_selection import train_test_split\n",
    "from sklearn.svm import SVC\n",
    "from sklearn.metrics import classification_report, accuracy_score\n",
    "import seaborn as sns\n",
    "\n",
    "# Load the dataset (Kaggle Sign Language MNIST)\n",
    "train_csv = r\"C:\\Users\\Admin\\Desktop\\SkillCraft\\Task4\\sign_mnist_train.csv\"\n",
    "test_csv = r\"C:\\Users\\Admin\\Desktop\\SkillCraft\\Task4\\sign_mnist_test.csv\"\n",
    "\n",
    "train_df = pd.read_csv(train_csv)\n",
    "test_df = pd.read_csv(test_csv)\n",
    "\n",
    "print(\"Training shape:\", train_df.shape)\n",
    "print(\"Testing shape:\", test_df.shape)\n",
    "\n",
    "# Prepare data\n",
    "X_train = train_df.drop('label', axis=1)\n",
    "y_train = train_df['label']\n",
    "\n",
    "X_test = test_df.drop('label', axis=1)\n",
    "y_test = test_df['label']\n",
    "\n",
    "# Normalize pixel values\n",
    "X_train = X_train / 255.0\n",
    "X_test = X_test / 255.0\n",
    "\n",
    "# Train SVM\n",
    "svm_model = SVC(kernel='linear', C=1)\n",
    "svm_model.fit(X_train, y_train)\n",
    "\n",
    "# Predict\n",
    "y_pred = svm_model.predict(X_test)\n",
    "\n",
    "# Evaluate\n",
    "print(\"Accuracy:\", accuracy_score(y_test, y_pred))\n",
    "print(\"\\nClassification Report:\\n\", classification_report(y_test, y_pred))\n",
    "\n",
    "# Visualization\n",
    "plt.figure(figsize=(6,4))\n",
    "sns.countplot(x=y_train)\n",
    "plt.title(\"Gesture Distribution in Training Data\")\n",
    "plt.show()\n"
   ]
  },
  {
   "cell_type": "code",
   "execution_count": null,
   "id": "11ea9e8a-93ed-4206-b54a-2d3c84c2e761",
   "metadata": {},
   "outputs": [],
   "source": []
  }
 ],
 "metadata": {
  "kernelspec": {
   "display_name": "Python 3 (ipykernel)",
   "language": "python",
   "name": "python3"
  },
  "language_info": {
   "codemirror_mode": {
    "name": "ipython",
    "version": 3
   },
   "file_extension": ".py",
   "mimetype": "text/x-python",
   "name": "python",
   "nbconvert_exporter": "python",
   "pygments_lexer": "ipython3",
   "version": "3.12.0"
  }
 },
 "nbformat": 4,
 "nbformat_minor": 5
}
